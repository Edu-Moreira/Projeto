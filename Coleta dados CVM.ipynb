{
 "cells": [
  {
   "cell_type": "code",
   "execution_count": 16,
   "metadata": {},
   "outputs": [],
   "source": [
    "import pandas as pd\n",
    "import numpy as np\n",
    "import yfinance as yf\n",
    "import requests\n",
    "import zipfile\n",
    "import io\n",
    "import xlsxwriter\n",
    "import time"
   ]
  },
  {
   "cell_type": "code",
   "execution_count": 158,
   "metadata": {},
   "outputs": [],
   "source": [
    "#Funções:\n",
    "\n",
    "###Função requisicao dados CVN\n",
    "# Função para fazer a requisição e tratar os possíveis erros\n",
    "def fazer_requisicao(url):\n",
    "    try:\n",
    "        # Realizar a requisição\n",
    "        response = requests.get(url)\n",
    "\n",
    "        # Verificar o status code da resposta\n",
    "        if response.status_code == 200:\n",
    "            print('Requisição bem-sucedida para '+mes+'/'+ano+'.')\n",
    "            return response\n",
    "        elif response.status_code == 404:\n",
    "            print('Página não encontrada (erro 404). Verifique a devida publicação na CVM disponível no site https://dados.cvm.gov.br/dados/FI/DOC/')\n",
    "            return  response # Interrompe o código aqui se o status code for 404\n",
    "        else:\n",
    "            print(f'Erro inesperado: Status code {response.status_code}')\n",
    "            return  # Interrompe o código em caso de status code diferente de 200 e 404\n",
    "\n",
    "    except requests.ConnectionError:\n",
    "        print('Erro de conexão: Verifique sua conexão de internet.')\n",
    "    except requests.Timeout:\n",
    "        print('Erro de timeout: A requisição excedeu o tempo limite.')\n",
    "    except requests.RequestException as e:\n",
    "        print(f'Erro na requisição: {e}')\n",
    "\n",
    "\n",
    "def coleta(objetivo, mes, ano):\n",
    "    \n",
    "    \"\"\"\n",
    "    Esta função captura dados do site da CVM.\n",
    "\n",
    "    Parâmetros:\n",
    "    objetivo(string): qual o tipo de informação deseja 'lamina' ou 'informativo'.\n",
    "    mes(int): qual o mês do dado.\n",
    "    ano(int): qual o ano do dado.\n",
    "    \n",
    "    Retorno:\n",
    "\n",
    "    df com o dado CVM \n",
    "    \n",
    "    \n",
    "    \"\"\"\n",
    "    objetivo = objetivo\n",
    "    mes = mes\n",
    "    ano = ano\n",
    "    ano = str(ano)\n",
    "    mes = str(mes).zfill(2) \n",
    "    informativo_dia  = 'https://dados.cvm.gov.br/dados/FI/DOC/INF_DIARIO/DADOS/inf_diario_fi_'+ano+mes+'.zip'\n",
    "    lamina =  'https://dados.cvm.gov.br/dados/FI/DOC/LAMINA/DADOS/lamina_fi_'+ano+mes+'.zip'\n",
    "    arquivo_inf_diario = 'inf_diario_fi_'+ano+mes+'.csv'\n",
    "    arquivo_lamina = 'lamina_fi_'+ano+mes+'.csv'\n",
    "    \n",
    "\n",
    "    if objetivo =='informativo':\n",
    "        link_arq = informativo_dia\n",
    "        tp_arq = arquivo_inf_diario\n",
    "    elif objetivo =='lamina':\n",
    "        tp_arq = arquivo_lamina\n",
    "        link_arq = lamina\n",
    "\n",
    "    print('{}\\n{}'.format(link_arq, tp_arq))\n",
    "    r = fazer_requisicao(link_arq)\n",
    "    \n",
    "    if r.status_code == 404:\n",
    "        print()\n",
    "        \n",
    "    else:\n",
    "\n",
    "        zf = zipfile.ZipFile(io.BytesIO(r.content))\n",
    "\n",
    "        arquivo = tp_arq\n",
    "\n",
    "        zf = zf.open(arquivo)\n",
    "\n",
    "        lines = zf.readlines()\n",
    "        lines =[i.strip().decode('ISO-8859-1') for i in lines]\n",
    "        lines = [i.split(';') for i in lines]\n",
    "\n",
    "        df = pd.DataFrame(lines[1:], columns = lines[0])\n",
    "        return df\n"
   ]
  },
  {
   "cell_type": "code",
   "execution_count": 159,
   "metadata": {},
   "outputs": [
    {
     "name": "stdout",
     "output_type": "stream",
     "text": [
      "https://dados.cvm.gov.br/dados/FI/DOC/LAMINA/DADOS/lamina_fi_202403.zip\n",
      "lamina_fi_202403.csv\n",
      "Página não encontrada (erro 404). Verifique a devida publicação na CVM disponível no site https://dados.cvm.gov.br/dados/FI/DOC/\n",
      "\n"
     ]
    }
   ],
   "source": [
    "coleta('lamina',3,2024)"
   ]
  }
 ],
 "metadata": {
  "kernelspec": {
   "display_name": "Python 3",
   "language": "python",
   "name": "python3"
  },
  "language_info": {
   "codemirror_mode": {
    "name": "ipython",
    "version": 3
   },
   "file_extension": ".py",
   "mimetype": "text/x-python",
   "name": "python",
   "nbconvert_exporter": "python",
   "pygments_lexer": "ipython3",
   "version": "3.11.4"
  }
 },
 "nbformat": 4,
 "nbformat_minor": 2
}
