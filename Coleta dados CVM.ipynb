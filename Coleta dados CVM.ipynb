{
 "cells": [
  {
   "cell_type": "code",
   "execution_count": 16,
   "metadata": {},
   "outputs": [],
   "source": [
    "import pandas as pd\n",
    "import numpy as np\n",
    "import yfinance as yf\n",
    "import requests\n",
    "import zipfile\n",
    "import io\n",
    "import xlsxwriter\n",
    "import time"
   ]
  },
  {
   "cell_type": "code",
   "execution_count": 84,
   "metadata": {},
   "outputs": [],
   "source": [
    "ano = int(input())\n",
    "mes = int(input())\n",
    "ano = str(ano)\n",
    "mes = str(mes).zfill(2)"
   ]
  },
  {
   "cell_type": "code",
   "execution_count": 88,
   "metadata": {},
   "outputs": [
    {
     "data": {
      "text/plain": [
       "'02'"
      ]
     },
     "execution_count": 88,
     "metadata": {},
     "output_type": "execute_result"
    }
   ],
   "source": [
    "mes"
   ]
  },
  {
   "cell_type": "code",
   "execution_count": 86,
   "metadata": {},
   "outputs": [],
   "source": [
    "#Funções:\n",
    "\n",
    "###Função requisicao dados CVN\n",
    "# Função para fazer a requisição e tratar os possíveis erros\n",
    "def fazer_requisicao(url):\n",
    "    try:\n",
    "        # Realizar a requisição\n",
    "        response = requests.get(url)\n",
    "\n",
    "        # Verificar o status code da resposta\n",
    "        if response.status_code == 200:\n",
    "            print('Requisição bem-sucedida para '+mes+'/'+ano+'.')\n",
    "            return response\n",
    "        elif response.status_code == 404:\n",
    "            print('Página não encontrada (erro 404).')\n",
    "            return  # Interrompe o código aqui se o status code for 404\n",
    "        else:\n",
    "            print(f'Erro inesperado: Status code {response.status_code}')\n",
    "            return  # Interrompe o código em caso de status code diferente de 200 e 404\n",
    "\n",
    "    except requests.ConnectionError:\n",
    "        print('Erro de conexão: Verifique sua conexão de internet.')\n",
    "    except requests.Timeout:\n",
    "        print('Erro de timeout: A requisição excedeu o tempo limite.')\n",
    "    except requests.RequestException as e:\n",
    "        print(f'Erro na requisição: {e}')"
   ]
  },
  {
   "cell_type": "code",
   "execution_count": 93,
   "metadata": {},
   "outputs": [
    {
     "name": "stdout",
     "output_type": "stream",
     "text": [
      "Requisição bem-sucedida para 02/2024.\n"
     ]
    }
   ],
   "source": [
    "link1 = 'https://dados.cvm.gov.br/dados/FI/DOC/INF_DIARIO/DADOS/inf_diario_fi_'+ano+mes+'.zip'\n",
    "\n",
    "requisicao_inf_diario = fazer_requisicao(link1)\n",
    "\n",
    "zf_inf_diario = zipfile.ZipFile(io.BytesIO(requisicao_inf_diario.content))\n",
    "\n",
    "arquivo_inf_diario = 'inf_diario_fi_'+ano+mes+'.csv'\n",
    "\n",
    "zf_inf_diario = zf_inf_diario.open(arquivo_inf_diario)\n",
    "\n",
    "lines_inf_diario = zf_inf_diario.readlines()\n",
    "\n",
    "lines_inf_diario = [i.strip().decode('ISO-8859-1') for i in lines_inf_diario]\n",
    "\n",
    "lines_inf_diario = [i.split(';') for i in lines_inf_diario]\n",
    "      \n",
    "inf_dia = pd.DataFrame(lines_inf_diario[1:], columns = lines_inf_diario[0])"
   ]
  },
  {
   "cell_type": "code",
   "execution_count": 94,
   "metadata": {},
   "outputs": [
    {
     "data": {
      "text/html": [
       "<div>\n",
       "<style scoped>\n",
       "    .dataframe tbody tr th:only-of-type {\n",
       "        vertical-align: middle;\n",
       "    }\n",
       "\n",
       "    .dataframe tbody tr th {\n",
       "        vertical-align: top;\n",
       "    }\n",
       "\n",
       "    .dataframe thead th {\n",
       "        text-align: right;\n",
       "    }\n",
       "</style>\n",
       "<table border=\"1\" class=\"dataframe\">\n",
       "  <thead>\n",
       "    <tr style=\"text-align: right;\">\n",
       "      <th></th>\n",
       "      <th>TP_FUNDO</th>\n",
       "      <th>CNPJ_FUNDO</th>\n",
       "      <th>DT_COMPTC</th>\n",
       "      <th>VL_TOTAL</th>\n",
       "      <th>VL_QUOTA</th>\n",
       "      <th>VL_PATRIM_LIQ</th>\n",
       "      <th>CAPTC_DIA</th>\n",
       "      <th>RESG_DIA</th>\n",
       "      <th>NR_COTST</th>\n",
       "    </tr>\n",
       "  </thead>\n",
       "  <tbody>\n",
       "    <tr>\n",
       "      <th>0</th>\n",
       "      <td>FI</td>\n",
       "      <td>00.017.024/0001-53</td>\n",
       "      <td>2024-02-01</td>\n",
       "      <td>1143827.67</td>\n",
       "      <td>34.571524200000</td>\n",
       "      <td>1145999.98</td>\n",
       "      <td>0.00</td>\n",
       "      <td>0.00</td>\n",
       "      <td>1</td>\n",
       "    </tr>\n",
       "    <tr>\n",
       "      <th>1</th>\n",
       "      <td>FI</td>\n",
       "      <td>00.017.024/0001-53</td>\n",
       "      <td>2024-02-02</td>\n",
       "      <td>1144304.09</td>\n",
       "      <td>34.582609700000</td>\n",
       "      <td>1146367.45</td>\n",
       "      <td>0.00</td>\n",
       "      <td>0.00</td>\n",
       "      <td>1</td>\n",
       "    </tr>\n",
       "    <tr>\n",
       "      <th>2</th>\n",
       "      <td>FI</td>\n",
       "      <td>00.017.024/0001-53</td>\n",
       "      <td>2024-02-05</td>\n",
       "      <td>1144776.75</td>\n",
       "      <td>34.594115200000</td>\n",
       "      <td>1146748.84</td>\n",
       "      <td>0.00</td>\n",
       "      <td>0.00</td>\n",
       "      <td>1</td>\n",
       "    </tr>\n",
       "    <tr>\n",
       "      <th>3</th>\n",
       "      <td>FI</td>\n",
       "      <td>00.017.024/0001-53</td>\n",
       "      <td>2024-02-06</td>\n",
       "      <td>1145251.90</td>\n",
       "      <td>34.605507200000</td>\n",
       "      <td>1147126.47</td>\n",
       "      <td>0.00</td>\n",
       "      <td>0.00</td>\n",
       "      <td>1</td>\n",
       "    </tr>\n",
       "    <tr>\n",
       "      <th>4</th>\n",
       "      <td>FI</td>\n",
       "      <td>00.017.024/0001-53</td>\n",
       "      <td>2024-02-07</td>\n",
       "      <td>1145392.84</td>\n",
       "      <td>34.616973700000</td>\n",
       "      <td>1147506.57</td>\n",
       "      <td>0.00</td>\n",
       "      <td>0.00</td>\n",
       "      <td>1</td>\n",
       "    </tr>\n",
       "    <tr>\n",
       "      <th>...</th>\n",
       "      <td>...</td>\n",
       "      <td>...</td>\n",
       "      <td>...</td>\n",
       "      <td>...</td>\n",
       "      <td>...</td>\n",
       "      <td>...</td>\n",
       "      <td>...</td>\n",
       "      <td>...</td>\n",
       "      <td>...</td>\n",
       "    </tr>\n",
       "    <tr>\n",
       "      <th>490971</th>\n",
       "      <td>FI</td>\n",
       "      <td>97.929.213/0001-34</td>\n",
       "      <td>2024-02-23</td>\n",
       "      <td>86573988.67</td>\n",
       "      <td>11.703107280000</td>\n",
       "      <td>84123516.06</td>\n",
       "      <td>0.00</td>\n",
       "      <td>0.00</td>\n",
       "      <td>2</td>\n",
       "    </tr>\n",
       "    <tr>\n",
       "      <th>490972</th>\n",
       "      <td>FI</td>\n",
       "      <td>97.929.213/0001-34</td>\n",
       "      <td>2024-02-26</td>\n",
       "      <td>86570206.49</td>\n",
       "      <td>11.703141250000</td>\n",
       "      <td>84123760.25</td>\n",
       "      <td>0.00</td>\n",
       "      <td>0.00</td>\n",
       "      <td>2</td>\n",
       "    </tr>\n",
       "    <tr>\n",
       "      <th>490973</th>\n",
       "      <td>FI</td>\n",
       "      <td>97.929.213/0001-34</td>\n",
       "      <td>2024-02-27</td>\n",
       "      <td>86726281.24</td>\n",
       "      <td>11.724777760000</td>\n",
       "      <td>84279286.39</td>\n",
       "      <td>0.00</td>\n",
       "      <td>0.00</td>\n",
       "      <td>2</td>\n",
       "    </tr>\n",
       "    <tr>\n",
       "      <th>490974</th>\n",
       "      <td>FI</td>\n",
       "      <td>97.929.213/0001-34</td>\n",
       "      <td>2024-02-28</td>\n",
       "      <td>85599197.62</td>\n",
       "      <td>11.728172290000</td>\n",
       "      <td>84303686.70</td>\n",
       "      <td>0.00</td>\n",
       "      <td>0.00</td>\n",
       "      <td>2</td>\n",
       "    </tr>\n",
       "    <tr>\n",
       "      <th>490975</th>\n",
       "      <td>FI</td>\n",
       "      <td>97.929.213/0001-34</td>\n",
       "      <td>2024-02-29</td>\n",
       "      <td>81542271.57</td>\n",
       "      <td>11.741044120000</td>\n",
       "      <td>84396211.16</td>\n",
       "      <td>0.00</td>\n",
       "      <td>0.00</td>\n",
       "      <td>2</td>\n",
       "    </tr>\n",
       "  </tbody>\n",
       "</table>\n",
       "<p>490976 rows × 9 columns</p>\n",
       "</div>"
      ],
      "text/plain": [
       "       TP_FUNDO          CNPJ_FUNDO   DT_COMPTC     VL_TOTAL         VL_QUOTA  \\\n",
       "0            FI  00.017.024/0001-53  2024-02-01   1143827.67  34.571524200000   \n",
       "1            FI  00.017.024/0001-53  2024-02-02   1144304.09  34.582609700000   \n",
       "2            FI  00.017.024/0001-53  2024-02-05   1144776.75  34.594115200000   \n",
       "3            FI  00.017.024/0001-53  2024-02-06   1145251.90  34.605507200000   \n",
       "4            FI  00.017.024/0001-53  2024-02-07   1145392.84  34.616973700000   \n",
       "...         ...                 ...         ...          ...              ...   \n",
       "490971       FI  97.929.213/0001-34  2024-02-23  86573988.67  11.703107280000   \n",
       "490972       FI  97.929.213/0001-34  2024-02-26  86570206.49  11.703141250000   \n",
       "490973       FI  97.929.213/0001-34  2024-02-27  86726281.24  11.724777760000   \n",
       "490974       FI  97.929.213/0001-34  2024-02-28  85599197.62  11.728172290000   \n",
       "490975       FI  97.929.213/0001-34  2024-02-29  81542271.57  11.741044120000   \n",
       "\n",
       "       VL_PATRIM_LIQ CAPTC_DIA RESG_DIA NR_COTST  \n",
       "0         1145999.98      0.00     0.00        1  \n",
       "1         1146367.45      0.00     0.00        1  \n",
       "2         1146748.84      0.00     0.00        1  \n",
       "3         1147126.47      0.00     0.00        1  \n",
       "4         1147506.57      0.00     0.00        1  \n",
       "...              ...       ...      ...      ...  \n",
       "490971   84123516.06      0.00     0.00        2  \n",
       "490972   84123760.25      0.00     0.00        2  \n",
       "490973   84279286.39      0.00     0.00        2  \n",
       "490974   84303686.70      0.00     0.00        2  \n",
       "490975   84396211.16      0.00     0.00        2  \n",
       "\n",
       "[490976 rows x 9 columns]"
      ]
     },
     "execution_count": 94,
     "metadata": {},
     "output_type": "execute_result"
    }
   ],
   "source": [
    "inf_dia"
   ]
  },
  {
   "cell_type": "code",
   "execution_count": 95,
   "metadata": {},
   "outputs": [
    {
     "name": "stdout",
     "output_type": "stream",
     "text": [
      "Requisição bem-sucedida para 02/2024.\n"
     ]
    }
   ],
   "source": [
    "link2 = 'https://dados.cvm.gov.br/dados/FI/DOC/LAMINA/DADOS/lamina_fi_'+ano+mes+'.zip'\n",
    "\n",
    "requisicao_lamina = fazer_requisicao(link2)\n",
    "\n",
    "\n",
    "zf_lamina = zipfile.ZipFile(io.BytesIO(requisicao_lamina.content))\n",
    "\n",
    "arquivo_lamina = 'lamina_fi_'+ano+mes+'.csv'\n",
    "\n",
    "zf_lamina = zf_lamina.open(arquivo_lamina)\n",
    "\n",
    "lines_lamina = zf_lamina.readlines()\n",
    "\n",
    "lines_lamina = [i.strip().decode('ISO-8859-1') for i in lines_lamina]\n",
    "\n",
    "lines_lamina = [i.split(';') for i in lines_lamina]\n",
    "\n",
    "lamina_mes = pd.DataFrame(lines_lamina[1:], columns = lines_lamina[0])"
   ]
  },
  {
   "cell_type": "code",
   "execution_count": 97,
   "metadata": {},
   "outputs": [
    {
     "data": {
      "text/plain": [
       "Index(['CNPJ_FUNDO', 'DENOM_SOCIAL', 'DT_COMPTC', 'NM_FANTASIA',\n",
       "       'ENDER_ELETRONICO', 'PUBLICO_ALVO', 'RESTR_INVEST', 'OBJETIVO',\n",
       "       'POLIT_INVEST', 'PR_PL_ATIVO_EXTERIOR', 'PR_PL_ATIVO_CRED_PRIV',\n",
       "       'PR_PL_ALAVANC', 'PR_ATIVO_EMISSOR', 'DERIV_PROTECAO_CARTEIRA',\n",
       "       'RISCO_PERDA', 'RISCO_PERDA_NEGATIVO', 'PR_PL_APLIC_MAX_FUNDO_UNICO',\n",
       "       'INVEST_INICIAL_MIN', 'INVEST_ADIC', 'RESGATE_MIN',\n",
       "       'HORA_APLIC_RESGATE', 'VL_MIN_PERMAN', 'QT_DIA_CAREN', 'CONDIC_CAREN',\n",
       "       'CONVERSAO_COTA_COMPRA', 'QT_DIA_CONVERSAO_COTA_COMPRA',\n",
       "       'CONVERSAO_COTA_CANC', 'QT_DIA_CONVERSAO_COTA_RESGATE',\n",
       "       'TP_DIA_PAGTO_RESGATE', 'QT_DIA_PAGTO_RESGATE', 'TP_TAXA_ADM',\n",
       "       'TAXA_ADM', 'TAXA_ADM_MIN', 'TAXA_ADM_MAX', 'TAXA_ADM_OBS', 'TAXA_ENTR',\n",
       "       'CONDIC_ENTR', 'QT_DIA_SAIDA', 'TAXA_SAIDA', 'CONDIC_SAIDA',\n",
       "       'TAXA_PERFM', 'PR_PL_DESPESA', 'DT_INI_DESPESA', 'DT_FIM_DESPESA',\n",
       "       'ENDER_ELETRONICO_DESPESA', 'VL_PATRIM_LIQ', 'CLASSE_RISCO_ADMIN',\n",
       "       'PR_RENTAB_FUNDO_5ANO', 'INDICE_REFER', 'PR_VARIACAO_INDICE_REFER_5ANO',\n",
       "       'QT_ANO_PERDA', 'DT_INI_ATIV_5ANO', 'ANO_SEM_RENTAB',\n",
       "       'CALC_RENTAB_FUNDO_GATILHO', 'PR_VARIACAO_PERFM', 'CALC_RENTAB_FUNDO',\n",
       "       'RENTAB_GATILHO', 'DS_RENTAB_GATILHO', 'ANO_EXEMPLO',\n",
       "       'ANO_ANTER_EXEMPLO', 'VL_RESGATE_EXEMPLO', 'VL_IMPOSTO_EXEMPLO',\n",
       "       'VL_TAXA_ENTR_EXEMPLO', 'VL_TAXA_SAIDA_EXEMPLO',\n",
       "       'VL_AJUSTE_PERFM_EXEMPLO', 'VL_DESPESA_EXEMPLO', 'VL_DESPESA_3ANO',\n",
       "       'VL_DESPESA_5ANO', 'VL_RETORNO_3ANO', 'VL_RETORNO_5ANO',\n",
       "       'REMUN_DISTRIB', 'DISTRIB_GESTOR_UNICO', 'CONFLITO_VENDA', 'TEL_SAC',\n",
       "       'ENDER_ELETRONICO_RECLAMACAO', 'INF_SAC'],\n",
       "      dtype='object')"
      ]
     },
     "execution_count": 97,
     "metadata": {},
     "output_type": "execute_result"
    }
   ],
   "source": [
    "lamina_mes.columns"
   ]
  },
  {
   "cell_type": "code",
   "execution_count": 58,
   "metadata": {},
   "outputs": [
    {
     "data": {
      "text/plain": [
       "'https://dados.cvm.gov.br/dados/FI/DOC/LAMINA/DADOS/202402.zip'"
      ]
     },
     "execution_count": 58,
     "metadata": {},
     "output_type": "execute_result"
    }
   ],
   "source": [
    "link\n",
    "https://dados.cvm.gov.br/dados/FI/DOC/LAMINA/DADOS/lamina_fi_202402.zip"
   ]
  },
  {
   "cell_type": "code",
   "execution_count": 77,
   "metadata": {},
   "outputs": [
    {
     "data": {
      "text/plain": [
       "<zipfile.ZipFile file=<_io.BytesIO object at 0x0000019105344E00> mode='r'>"
      ]
     },
     "execution_count": 77,
     "metadata": {},
     "output_type": "execute_result"
    }
   ],
   "source": [
    "zipfile.ZipFile(io.BytesIO(r.content))"
   ]
  }
 ],
 "metadata": {
  "kernelspec": {
   "display_name": "Python 3",
   "language": "python",
   "name": "python3"
  },
  "language_info": {
   "codemirror_mode": {
    "name": "ipython",
    "version": 3
   },
   "file_extension": ".py",
   "mimetype": "text/x-python",
   "name": "python",
   "nbconvert_exporter": "python",
   "pygments_lexer": "ipython3",
   "version": "3.11.4"
  }
 },
 "nbformat": 4,
 "nbformat_minor": 2
}
